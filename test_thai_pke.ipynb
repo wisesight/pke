{
 "cells": [
  {
   "cell_type": "code",
   "execution_count": 6,
   "metadata": {},
   "outputs": [
    {
     "name": "stdout",
     "output_type": "stream",
     "text": [
      "INFO: Pandarallel will run on 4 workers.\n",
      "INFO: Pandarallel will use standard multiprocessing data transfer (pipe) to transfer data between the main process and workers.\n"
     ]
    }
   ],
   "source": [
    "from pke.unsupervised import TopicRank\n",
    "import pandas as pd\n",
    "from pandarallel import pandarallel\n",
    "from datetime import datetime\n",
    "pd.set_option('max_colwidth', -1)\n",
    "pandarallel.initialize()"
   ]
  },
  {
   "cell_type": "code",
   "execution_count": 2,
   "metadata": {},
   "outputs": [],
   "source": [
    "df = pd.read_csv(\"small_data.csv\")"
   ]
  },
  {
   "cell_type": "code",
   "execution_count": 13,
   "metadata": {},
   "outputs": [],
   "source": [
    "def get_candidates(text, n_best = 5):\n",
    "    # load the content of the document, here in CoreNLP XML format\n",
    "    extractor = TopicRank()\n",
    "    # the input language is set to English (used for the stoplist)\n",
    "    # normalization is set to stemming (computed with Porter's stemming algorithm)\n",
    "    # extractor.load_document(input='examples/C-2.txt',\n",
    "    #                         language=\"en\",\n",
    "    #                         normalization='stemming')\n",
    "    # extractor.load_document(input='examples/thai_sentence.txt',\n",
    "    extractor.load_document(input=text,\n",
    "                            language=\"th\",\n",
    "                            normalization=None)\n",
    "\n",
    "    # select the keyphrase candidates, for TopicRank the longest sequences of \n",
    "    # nouns and adjectives\n",
    "    extractor.candidate_selection(pos={'NOUN', 'ADJ'})\n",
    "\n",
    "    # weight the candidates using a random walk. The threshold parameter sets the\n",
    "    # minimum similarity for clustering, and the method parameter defines the \n",
    "    # linkage method\n",
    "    extractor.candidate_weighting(threshold=0.,\n",
    "                                  method='average')\n",
    "#     n_best = len(extractor.candidates)//4 + 1\n",
    "    n_best = len(extractor.candidates)\n",
    "    # print the n-highest (10) scored candidates\n",
    "    return [(keyphrase, score) for (keyphrase, score) in extractor.get_n_best(n=n_best, stemming=False)]"
   ]
  },
  {
   "cell_type": "code",
   "execution_count": null,
   "metadata": {},
   "outputs": [],
   "source": [
    "ext"
   ]
  },
  {
   "cell_type": "code",
   "execution_count": 8,
   "metadata": {},
   "outputs": [
    {
     "name": "stderr",
     "output_type": "stream",
     "text": [
      "WARNING:root:Not enough candidates to choose from (19 requested, 18 given)\n",
      "WARNING:root:Not enough candidates to choose from (12 requested, 11 given)\n",
      "WARNING:root:Not enough candidates to choose from (26 requested, 21 given)\n",
      "WARNING:root:Not enough candidates to choose from (43 requested, 33 given)\n",
      "WARNING:root:Not enough candidates to choose from (39 requested, 35 given)\n",
      "WARNING:root:Not enough candidates to choose from (6 requested, 5 given)\n",
      "WARNING:root:Not enough candidates to choose from (7 requested, 6 given)\n",
      "WARNING:root:Not enough candidates to choose from (16 requested, 14 given)\n",
      "WARNING:root:Not enough candidates to choose from (7 requested, 6 given)\n",
      "WARNING:root:Not enough candidates to choose from (4 requested, 3 given)\n",
      "WARNING:root:Not enough candidates to choose from (17 requested, 16 given)\n",
      "WARNING:root:Not enough candidates to choose from (14 requested, 12 given)\n",
      "WARNING:root:Not enough candidates to choose from (12 requested, 11 given)\n",
      "WARNING:root:Not enough candidates to choose from (6 requested, 5 given)\n",
      "WARNING:root:Not enough candidates to choose from (25 requested, 22 given)\n",
      "WARNING:root:Not enough candidates to choose from (42 requested, 34 given)\n",
      "WARNING:root:Not enough candidates to choose from (29 requested, 24 given)\n",
      "WARNING:root:Not enough candidates to choose from (9 requested, 8 given)\n",
      "WARNING:root:Not enough candidates to choose from (34 requested, 28 given)\n",
      "WARNING:root:Not enough candidates to choose from (8 requested, 7 given)\n",
      "WARNING:root:Not enough candidates to choose from (5 requested, 4 given)\n",
      "WARNING:root:Not enough candidates to choose from (32 requested, 30 given)\n",
      "WARNING:root:Not enough candidates to choose from (10 requested, 9 given)\n",
      "WARNING:root:Not enough candidates to choose from (5 requested, 3 given)\n",
      "WARNING:root:Not enough candidates to choose from (10 requested, 9 given)\n",
      "WARNING:root:Not enough candidates to choose from (88 requested, 71 given)\n",
      "WARNING:root:Not enough candidates to choose from (16 requested, 14 given)\n",
      "WARNING:root:Not enough candidates to choose from (3 requested, 2 given)\n",
      "WARNING:root:Not enough candidates to choose from (52 requested, 47 given)\n",
      "WARNING:root:Not enough candidates to choose from (70 requested, 50 given)\n",
      "WARNING:root:Not enough candidates to choose from (14 requested, 13 given)\n",
      "WARNING:root:Not enough candidates to choose from (10 requested, 9 given)\n",
      "WARNING:root:Not enough candidates to choose from (29 requested, 25 given)\n",
      "WARNING:root:Not enough candidates to choose from (13 requested, 12 given)\n",
      "WARNING:root:Not enough candidates to choose from (39 requested, 31 given)\n",
      "WARNING:root:Not enough candidates to choose from (29 requested, 27 given)\n"
     ]
    },
    {
     "name": "stdout",
     "output_type": "stream",
     "text": [
      "0:00:18.335214\n"
     ]
    }
   ],
   "source": [
    "start_time = datetime.now()\n",
    "df['candidates'] = df.text.parallel_apply(get_candidates)\n",
    "print(datetime.now() - start_time)"
   ]
  },
  {
   "cell_type": "code",
   "execution_count": 14,
   "metadata": {},
   "outputs": [],
   "source": [
    "df.to_csv('test_candidate.csv', index=False)"
   ]
  },
  {
   "cell_type": "code",
   "execution_count": 9,
   "metadata": {},
   "outputs": [
    {
     "data": {
      "text/html": [
       "<div>\n",
       "<style scoped>\n",
       "    .dataframe tbody tr th:only-of-type {\n",
       "        vertical-align: middle;\n",
       "    }\n",
       "\n",
       "    .dataframe tbody tr th {\n",
       "        vertical-align: top;\n",
       "    }\n",
       "\n",
       "    .dataframe thead th {\n",
       "        text-align: right;\n",
       "    }\n",
       "</style>\n",
       "<table border=\"1\" class=\"dataframe\">\n",
       "  <thead>\n",
       "    <tr style=\"text-align: right;\">\n",
       "      <th></th>\n",
       "      <th>text</th>\n",
       "      <th>candidates</th>\n",
       "    </tr>\n",
       "  </thead>\n",
       "  <tbody>\n",
       "    <tr>\n",
       "      <th>0</th>\n",
       "      <td>可爱 #iplannxmamondexvcare #คนของแปลน https://t.co/zvjbyu5utl</td>\n",
       "      <td>[(iplannxmamondexvcareคน, 0.5), (แปลน, 0.5)]</td>\n",
       "    </tr>\n",
       "    <tr>\n",
       "      <th>1</th>\n",
       "      <td>ครีมกันแดดเนื้อเจล...คุมมัน ป้องกันสิว ไม่เหนอะหนะ แต่งหน้าแป้งติดทน เลอค่าสุดๆ ✨\\n\\n Eucerin oil control sun gel-créme dry touch \\nขนาดปกติ 50ml\\n\\n🌞กันแดดที่ดีงามพระรามแปดมากก...เนื้อเจลครีม ที่รวมคุณสมบัติ ลดฝ้าแดด และ สิว ในหนึ่งเดียว ประสิทธิภาพการปกป้องสูงสุด เหนือกว่า SPF และ PA ด้วย ออกซิแดนท์ ฟิลเตอร์ ช่วยลดฝ้าแดดฝังลึก พร้อมคาร์นีทีน ช่วยควบคุมความมันระหว่างวัน ลดสาเหตุสิว  \\n\\nบทพิสูจน์ทางการแพทย์\\n1. ออกซิแดนท์ ฟิลเตอร์พิสูจน์แล้วว่าสามารถช่วยลดการทำร้ายเซลล์ผิวจากยูวีเอกว่า 80% จึงลดการเกิดฝ้าแดดได้\\n2. คาร์นีทีน ช่วยลดความมันบนเซลล์ผิว กว่า 86% จึงลดสาเหตุสิว\\n3. ได้รับการพิสูจน์แล้วว่าสามารถลดเชื้อ P.Acne ต้นเหตุการเกิดสิว 46%\\nขายยย​ 1,090\\nปกติ 1,400.-</td>\n",
       "      <td>[(ประสิทธิภาพการ, 0.11805476794214961), (สิว, 0.11787298553287201), (ฝ้าแดด, 0.09364904803171004), (ซิแดนท์ฟิลเตอร์, 0.0581385562597503), (ความ, 0.055987021218321706), (เซลล์ผิว, 0.05489999125139008), (ลึก, 0.04021992611962776), (คาร์นีทีน, 0.038771559006119234), (pa, 0.03764076656007708), (spf, 0.03699981644691432), (วัน, 0.03628502196517737), (คุณสมบัติ, 0.03565559944471261), (สูง, 0.03559247273063864), (✨eucerinoilcontrolsungelcrmedrytouchขนาดปกติml🌞กันแดด, 0.03415652537020604), (ดีงามพระรามแปด, 0.033988601761670144), (เนื้อเจลครีม, 0.03360206902369579), (แดดเนื้อเจลคุมมัน, 0.032004420235426566), (ยูวี, 0.03181676946019001), (หน้าแป้งติดทน, 0.025414835269376344), (ครีม, 0.024746220065900167), (เชื้อpacneต้นเหตุการ, 0.02450302630407418)]</td>\n",
       "    </tr>\n",
       "    <tr>\n",
       "      <th>2</th>\n",
       "      <td>งุงิ อยากใช้ olay แต่หน้านี้ไม่ถูกกัน ใช้ไปคนอื่นหน้าข๊าวขาว อีนี่เฉยมาก แบบบบ รึหน้าชั้นหนา https://t.co/dt6jqls1f8</td>\n",
       "      <td>[(หน้า, 0.33647189571035785), (olay, 0.20923832324907377), (คน, 0.18620017233347863), (งุงิ, 0.14964173968214914), (แบบบบรึหน้าชั้นหนา, 0.11844786902494103)]</td>\n",
       "    </tr>\n",
       "    <tr>\n",
       "      <th>3</th>\n",
       "      <td>ผิวออร่าได้ในคืนเดียว สเนลไวท์ ไอซ์ซี่มาส์ก มาส์กเกล็ดหิมะ แบบซอง 39 บาท</td>\n",
       "      <td>[(สเนลไวท์ไอซ์ซี่, 0.3219545528301645), (คืน, 0.2733857047370429), (มาส์กเกล็ดหิมะแบบซองบาท, 0.21765993411747003), (ผิวออร่า, 0.18699980831532262)]</td>\n",
       "    </tr>\n",
       "    <tr>\n",
       "      <th>4</th>\n",
       "      <td>#Eucerin</td>\n",
       "      <td>[(eucerin, 1.0)]</td>\n",
       "    </tr>\n",
       "  </tbody>\n",
       "</table>\n",
       "</div>"
      ],
      "text/plain": [
       "                                                                                                                                                                                                                                                                                                                                                                                                                                                                                                                                                                                                                                                                                                    text  \\\n",
       "0  可爱 #iplannxmamondexvcare #คนของแปลน https://t.co/zvjbyu5utl                                                                                                                                                                                                                                                                                                                                                                                                                                                                                                                                                                                                                                             \n",
       "1  ครีมกันแดดเนื้อเจล...คุมมัน ป้องกันสิว ไม่เหนอะหนะ แต่งหน้าแป้งติดทน เลอค่าสุดๆ ✨\\n\\n Eucerin oil control sun gel-créme dry touch \\nขนาดปกติ 50ml\\n\\n🌞กันแดดที่ดีงามพระรามแปดมากก...เนื้อเจลครีม ที่รวมคุณสมบัติ ลดฝ้าแดด และ สิว ในหนึ่งเดียว ประสิทธิภาพการปกป้องสูงสุด เหนือกว่า SPF และ PA ด้วย ออกซิแดนท์ ฟิลเตอร์ ช่วยลดฝ้าแดดฝังลึก พร้อมคาร์นีทีน ช่วยควบคุมความมันระหว่างวัน ลดสาเหตุสิว  \\n\\nบทพิสูจน์ทางการแพทย์\\n1. ออกซิแดนท์ ฟิลเตอร์พิสูจน์แล้วว่าสามารถช่วยลดการทำร้ายเซลล์ผิวจากยูวีเอกว่า 80% จึงลดการเกิดฝ้าแดดได้\\n2. คาร์นีทีน ช่วยลดความมันบนเซลล์ผิว กว่า 86% จึงลดสาเหตุสิว\\n3. ได้รับการพิสูจน์แล้วว่าสามารถลดเชื้อ P.Acne ต้นเหตุการเกิดสิว 46%\\nขายยย​ 1,090\\nปกติ 1,400.-   \n",
       "2  งุงิ อยากใช้ olay แต่หน้านี้ไม่ถูกกัน ใช้ไปคนอื่นหน้าข๊าวขาว อีนี่เฉยมาก แบบบบ รึหน้าชั้นหนา https://t.co/dt6jqls1f8                                                                                                                                                                                                                                                                                                                                                                                                                                                                                                                                                                                    \n",
       "3  ผิวออร่าได้ในคืนเดียว สเนลไวท์ ไอซ์ซี่มาส์ก มาส์กเกล็ดหิมะ แบบซอง 39 บาท                                                                                                                                                                                                                                                                                                                                                                                                                                                                                                                                                                                                                                \n",
       "4  #Eucerin                                                                                                                                                                                                                                                                                                                                                                                                                                                                                                                                                                                                                                                                                                \n",
       "\n",
       "                                                                                                                                                                                                                                                                                                                                                                                                                                                                                                                                                                                                                                                                                                                                                                      candidates  \n",
       "0  [(iplannxmamondexvcareคน, 0.5), (แปลน, 0.5)]                                                                                                                                                                                                                                                                                                                                                                                                                                                                                                                                                                                                                                                                                                                                   \n",
       "1  [(ประสิทธิภาพการ, 0.11805476794214961), (สิว, 0.11787298553287201), (ฝ้าแดด, 0.09364904803171004), (ซิแดนท์ฟิลเตอร์, 0.0581385562597503), (ความ, 0.055987021218321706), (เซลล์ผิว, 0.05489999125139008), (ลึก, 0.04021992611962776), (คาร์นีทีน, 0.038771559006119234), (pa, 0.03764076656007708), (spf, 0.03699981644691432), (วัน, 0.03628502196517737), (คุณสมบัติ, 0.03565559944471261), (สูง, 0.03559247273063864), (✨eucerinoilcontrolsungelcrmedrytouchขนาดปกติml🌞กันแดด, 0.03415652537020604), (ดีงามพระรามแปด, 0.033988601761670144), (เนื้อเจลครีม, 0.03360206902369579), (แดดเนื้อเจลคุมมัน, 0.032004420235426566), (ยูวี, 0.03181676946019001), (หน้าแป้งติดทน, 0.025414835269376344), (ครีม, 0.024746220065900167), (เชื้อpacneต้นเหตุการ, 0.02450302630407418)]  \n",
       "2  [(หน้า, 0.33647189571035785), (olay, 0.20923832324907377), (คน, 0.18620017233347863), (งุงิ, 0.14964173968214914), (แบบบบรึหน้าชั้นหนา, 0.11844786902494103)]                                                                                                                                                                                                                                                                                                                                                                                                                                                                                                                                                                                                                  \n",
       "3  [(สเนลไวท์ไอซ์ซี่, 0.3219545528301645), (คืน, 0.2733857047370429), (มาส์กเกล็ดหิมะแบบซองบาท, 0.21765993411747003), (ผิวออร่า, 0.18699980831532262)]                                                                                                                                                                                                                                                                                                                                                                                                                                                                                                                                                                                                                            \n",
       "4  [(eucerin, 1.0)]                                                                                                                                                                                                                                                                                                                                                                                                                                                                                                                                                                                                                                                                                                                                                               "
      ]
     },
     "execution_count": 9,
     "metadata": {},
     "output_type": "execute_result"
    }
   ],
   "source": [
    "df.head()"
   ]
  },
  {
   "cell_type": "code",
   "execution_count": null,
   "metadata": {},
   "outputs": [],
   "source": []
  }
 ],
 "metadata": {
  "kernelspec": {
   "display_name": "Python 3",
   "language": "python",
   "name": "python3"
  },
  "language_info": {
   "codemirror_mode": {
    "name": "ipython",
    "version": 3
   },
   "file_extension": ".py",
   "mimetype": "text/x-python",
   "name": "python",
   "nbconvert_exporter": "python",
   "pygments_lexer": "ipython3",
   "version": "3.7.6"
  }
 },
 "nbformat": 4,
 "nbformat_minor": 4
}
